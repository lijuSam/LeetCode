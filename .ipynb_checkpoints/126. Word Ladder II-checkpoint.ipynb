{
 "cells": [
  {
   "cell_type": "markdown",
   "metadata": {},
   "source": [
    "# 126. Word Ladder II\n",
    "Link: https://leetcode.com/problems/word-ladder-ii/description/\n",
    "\n",
    "Given two words (beginWord and endWord), and a dictionary's word list, find all shortest transformation sequence(s) from beginWord to endWord, such that:\n",
    "\n",
    "1. Only one letter can be changed at a time\n",
    "2. Each transformed word must exist in the word list. Note that beginWord is not a transformed word.\n",
    "\n",
    "For example,\n",
    "\n",
    "Given:  \n",
    "\n",
    "*beginWord* = `\"hit\"`\n",
    "*endWord* = `\"cog\"`\n",
    "*wordList* = `[\"hot\",\"dot\",\"dog\",\"lot\",\"log\",\"cog\"]`\n",
    "\n",
    "Return\n",
    "```\n",
    "  [\n",
    "    [\"hit\",\"hot\",\"dot\",\"dog\",\"cog\"],\n",
    "    [\"hit\",\"hot\",\"lot\",\"log\",\"cog\"]\n",
    "  ]\n",
    "```\n",
    "**Note:**\n",
    "- Return an empty list if there is no such transformation sequence.\n",
    "- All words have the same length.\n",
    "- All words contain only lowercase alphabetic characters.\n",
    "- You may assume no duplicates in the word list.\n",
    "- You may assume beginWord and endWord are non-empty and are not the same."
   ]
  },
  {
   "cell_type": "markdown",
   "metadata": {},
   "source": [
    "# Solutions"
   ]
  },
  {
   "cell_type": "markdown",
   "metadata": {},
   "source": [
    "## Using Graph"
   ]
  },
  {
   "cell_type": "code",
   "execution_count": 11,
   "metadata": {},
   "outputs": [],
   "source": [
    "class Solution(object):\n",
    "    def differ(self, str1, str2):\n",
    "        differ_cnt = 0\n",
    "        for i in range(min(len(str1), len(str2))):\n",
    "            if str1[i] != str2[i]:\n",
    "                differ_cnt += 1\n",
    "        return differ_cnt\n",
    "    \n",
    "    \n",
    "    def findLadders(self, beginWord, endWord, wordList):\n",
    "        \"\"\"\n",
    "        :type beginWord: str\n",
    "        :type endWord: str\n",
    "        :type wordList: List[str]\n",
    "        :rtype: List[List[str]]\n",
    "        \"\"\"\n",
    "        # Build Graph\n",
    "        self.edges = []\n",
    "        for i in range(len(wordList)):\n",
    "            for j in range(len(wordList)):\n",
    "                if i == j: continue\n",
    "                if self.differ(wordList[i], wordList[j]) == 1:\n",
    "                    self.edges.append((i,j))\n",
    "        \n",
    "        \n",
    "        # Now it's a problem to find a path in a graph\n",
    "        print(self.edges)"
   ]
  },
  {
   "cell_type": "markdown",
   "metadata": {},
   "source": [
    "# Test"
   ]
  },
  {
   "cell_type": "code",
   "execution_count": 12,
   "metadata": {},
   "outputs": [
    {
     "name": "stdout",
     "output_type": "stream",
     "text": [
      "[(0, 1), (0, 3), (1, 0), (1, 2), (1, 3), (2, 1), (2, 4), (2, 5), (3, 0), (3, 1), (3, 4), (4, 2), (4, 3), (4, 5), (5, 2), (5, 4)]\n"
     ]
    }
   ],
   "source": [
    "Solution().findLadders('hit', 'cog', [\"hot\",\"dot\",\"dog\",\"lot\",\"log\",\"cog\"])"
   ]
  },
  {
   "cell_type": "code",
   "execution_count": null,
   "metadata": {
    "collapsed": true
   },
   "outputs": [],
   "source": []
  }
 ],
 "metadata": {
  "kernelspec": {
   "display_name": "Python 3",
   "language": "python",
   "name": "python3"
  },
  "language_info": {
   "codemirror_mode": {
    "name": "ipython",
    "version": 3
   },
   "file_extension": ".py",
   "mimetype": "text/x-python",
   "name": "python",
   "nbconvert_exporter": "python",
   "pygments_lexer": "ipython3",
   "version": "3.5.1"
  }
 },
 "nbformat": 4,
 "nbformat_minor": 2
}
