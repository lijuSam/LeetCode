{
 "cells": [
  {
   "cell_type": "markdown",
   "metadata": {},
   "source": [
    "# 480. Sliding Window Median\n",
    "Link: https://leetcode.com/problems/sliding-window-median/description/\n",
    "\n",
    "Median is the middle value in an ordered integer list. If the size of the list is even, there is no middle value. So the median is the mean of the two middle value.\n",
    "\n",
    "Examples: \n",
    "`[2,3,4]` , the median is `3`\n",
    "\n",
    "`[2,3]`, the median is `(2 + 3) / 2 = 2.5`\n",
    "\n",
    "Given an array nums, there is a sliding window of size *k* which is moving from the very left of the array to the very right. You can only see the *k* numbers in the window. Each time the sliding window moves right by one position. Your job is to output the median array for each window in the original array.\n",
    "\n",
    "For example,\n",
    "Given *nums* = `[1,3,-1,-3,5,3,6,7]`, and *k* = 3.\n",
    "```\n",
    "Window position                Median\n",
    "---------------               -----\n",
    "[1  3  -1] -3  5  3  6  7       1\n",
    " 1 [3  -1  -3] 5  3  6  7       -1\n",
    " 1  3 [-1  -3  5] 3  6  7       -1\n",
    " 1  3  -1 [-3  5  3] 6  7       3\n",
    " 1  3  -1  -3 [5  3  6] 7       5\n",
    " 1  3  -1  -3  5 [3  6  7]      6\n",
    " ```\n",
    "Therefore, return the median sliding window as `[1,-1,-1,3,5,6]`.\n",
    "\n",
    "Note: \n",
    "You may assume `k` is always valid, ie: `k` is always smaller than input array's size for non-empty array."
   ]
  },
  {
   "cell_type": "markdown",
   "metadata": {},
   "source": [
    "# Solutions"
   ]
  },
  {
   "cell_type": "markdown",
   "metadata": {},
   "source": [
    "## Simple Solution (TLE)"
   ]
  },
  {
   "cell_type": "code",
   "execution_count": 24,
   "metadata": {
    "collapsed": true
   },
   "outputs": [],
   "source": [
    "class Solution(object):\n",
    "    def medianSlidingWindow(self, nums, k):\n",
    "        \"\"\"\n",
    "        :type nums: List[int]\n",
    "        :type k: int\n",
    "        :rtype: List[float]\n",
    "        \"\"\"\n",
    "        def get_median_odd(l):\n",
    "            return float(sorted(l)[len(l) // 2])\n",
    "        def get_median_even(l):\n",
    "            i = len(l) // 2 - 1\n",
    "            return sum(sorted(l)[i: i + 2]) / 2\n",
    "        get_median = get_median_odd if k % 2 == 1 else get_median_even\n",
    "        \n",
    "        return [get_median(nums[i: i + k]) for i in range(len(nums) - k + 1)]\n",
    "        "
   ]
  },
  {
   "cell_type": "markdown",
   "metadata": {},
   "source": [
    "## Reduce the Redundancy "
   ]
  },
  {
   "cell_type": "code",
   "execution_count": null,
   "metadata": {
    "collapsed": true
   },
   "outputs": [],
   "source": []
  }
 ],
 "metadata": {
  "kernelspec": {
   "display_name": "Python 3",
   "language": "python",
   "name": "python3"
  },
  "language_info": {
   "codemirror_mode": {
    "name": "ipython",
    "version": 3
   },
   "file_extension": ".py",
   "mimetype": "text/x-python",
   "name": "python",
   "nbconvert_exporter": "python",
   "pygments_lexer": "ipython3",
   "version": "3.5.1"
  }
 },
 "nbformat": 4,
 "nbformat_minor": 2
}
